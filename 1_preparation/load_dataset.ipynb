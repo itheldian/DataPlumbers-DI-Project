{
 "cells": [
  {
   "cell_type": "code",
   "execution_count": 1,
   "id": "de117a03",
   "metadata": {},
   "outputs": [],
   "source": [
    "import pyodbc\n",
    "import pandas as pd"
   ]
  },
  {
   "cell_type": "code",
   "execution_count": 2,
   "id": "2b9f18e9",
   "metadata": {},
   "outputs": [],
   "source": [
    "server = 'dataintegrationproject.database.windows.net' \n",
    "database = 'DieZweiFragezeichen' \n",
    "username = 'di_public' \n",
    "password = 'DI_Pub2022!'  \n",
    "cnxn = pyodbc.connect('DRIVER={SQL Server};SERVER='+server+';DATABASE='+database+';UID='+username+';PWD='+ password)\n",
    "cursor = cnxn.cursor()"
   ]
  },
  {
   "cell_type": "code",
   "execution_count": 8,
   "id": "301ed59d",
   "metadata": {},
   "outputs": [
    {
     "name": "stdout",
     "output_type": "stream",
     "text": [
      "  HDI Rank      Country   1990   1991   1992   1993   1994   1995   1996  \\\n",
      "0      169  Afghanistan  0.302  0.307  0.316  0.312  0.307  0.331  0.335   \n",
      "1       69      Albania   0.65  0.631  0.615  0.618  0.624  0.637  0.646   \n",
      "2       91      Algeria  0.572  0.576  0.582  0.586   0.59  0.595  0.602   \n",
      "3       36      Andorra     ..     ..     ..     ..     ..     ..     ..   \n",
      "4      148       Angola     ..     ..     ..     ..     ..     ..     ..   \n",
      "\n",
      "    1997  ...   2010   2011   2012   2013   2014   2015   2016   2017   2018  \\\n",
      "0  0.339  ...  0.472  0.477  0.489  0.496    0.5    0.5  0.502  0.506  0.509   \n",
      "1  0.645  ...  0.745  0.764  0.775  0.782  0.787  0.788  0.788   0.79  0.792   \n",
      "2  0.611  ...  0.721  0.728  0.728  0.729  0.736   0.74  0.743  0.745  0.746   \n",
      "3     ..  ...  0.837  0.836  0.858  0.856  0.863  0.862  0.866  0.863  0.867   \n",
      "4     ..  ...  0.517  0.533  0.544  0.555  0.565  0.572  0.578  0.582  0.582   \n",
      "\n",
      "    2019  \n",
      "0  0.511  \n",
      "1  0.795  \n",
      "2  0.748  \n",
      "3  0.868  \n",
      "4  0.581  \n",
      "\n",
      "[5 rows x 32 columns]\n"
     ]
    }
   ],
   "source": [
    "q_HDI = \"SELECT * FROM HDI;\"\n",
    "q_AdjustedNI = \"SELECT * FROM AdjustedNetIncome;\"\n",
    "q_Countries = \"SELECT * FROM Countries;\"\n",
    "q_CountryGdp = \"SELECT * FROM CountryGdp;\"\n",
    "q_DurSchoolCompulsory = \"SELECT * FROM DurSchoolCompulsory;\"\n",
    "q_LifeExpectancy = \"SELECT * FROM LifeExpectancy;\"\n",
    "q_LiteracyRate = \"SELECT * FROM LiteracyRate;\"\n",
    "\n",
    "HDI = pd.read_sql(q_HDI, cnxn)\n",
    "AdjustedNetIncome = pd.read_sql(q_AdjustedNI, cnxn)\n",
    "Countries = pd.read_sql(q_Countries, cnxn)\n",
    "CountryGdp = pd.read_sql(q_CountryGdp, cnxn)\n",
    "DurSchoolCompulsory = pd.read_sql(q_DurSchoolCompulsory, cnxn)\n",
    "LifeExpectancy = pd.read_sql(q_LifeExpectancy, cnxn)\n",
    "LiteracyRate = pd.read_sql(q_LiteracyRate, cnxn)\n",
    "\n",
    "print(HDI.head(5))"
   ]
  },
  {
   "cell_type": "code",
   "execution_count": null,
   "id": "cc18095c",
   "metadata": {},
   "outputs": [],
   "source": []
  }
 ],
 "metadata": {
  "kernelspec": {
   "display_name": "Python 3 (ipykernel)",
   "language": "python",
   "name": "python3"
  },
  "language_info": {
   "codemirror_mode": {
    "name": "ipython",
    "version": 3
   },
   "file_extension": ".py",
   "mimetype": "text/x-python",
   "name": "python",
   "nbconvert_exporter": "python",
   "pygments_lexer": "ipython3",
   "version": "3.9.12"
  }
 },
 "nbformat": 4,
 "nbformat_minor": 5
}
